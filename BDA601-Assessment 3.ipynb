{
 "cells": [
  {
   "cell_type": "markdown",
   "id": "59c51574",
   "metadata": {},
   "source": [
    "# Problem Statement - Covid 19 dataset from john Hopkins\n",
    "## The dataset contains - 5 columns and 267 rows including header.¶\n",
    "## Dataset has a date and confirmed columns which are used for liner regression model and K means clusterning"
   ]
  },
  {
   "cell_type": "code",
   "execution_count": 1,
   "id": "24a24c6d",
   "metadata": {},
   "outputs": [],
   "source": [
    "# Importing Libraries \n",
    "\n",
    "import pandas as pd\n",
    "import numpy as np\n",
    "import matplotlib.pyplot as plt\n",
    "import seaborn as sns\n",
    "import datetime as datetime\n",
    "sns.set(font_scale=1.4)\n",
    "plt.style.use('seaborn')\n",
    "import matplotlib.dates as mdates\n",
    "from matplotlib.dates import DateFormatter\n",
    "import matplotlib.ticker as tick\n",
    "from sklearn.linear_model import LinearRegression\n",
    "from sklearn.metrics import r2_score, mean_squared_error\n",
    "#to ignore warnings\n",
    "import warnings\n",
    "warnings.filterwarnings('ignore')"
   ]
  },
  {
   "cell_type": "code",
   "execution_count": 2,
   "id": "3f28186e",
   "metadata": {},
   "outputs": [],
   "source": [
    "#Reading data \n",
    "covid_data = pd.read_csv(\"covid19.csv\")\n",
    "covid_data.head()\n",
    "covid_data_raw=covid_data\n",
    "covid=covid_data"
   ]
  },
  {
   "cell_type": "code",
   "execution_count": 3,
   "id": "f1e354f0",
   "metadata": {},
   "outputs": [
    {
     "data": {
      "text/html": [
       "<div>\n",
       "<style scoped>\n",
       "    .dataframe tbody tr th:only-of-type {\n",
       "        vertical-align: middle;\n",
       "    }\n",
       "\n",
       "    .dataframe tbody tr th {\n",
       "        vertical-align: top;\n",
       "    }\n",
       "\n",
       "    .dataframe thead th {\n",
       "        text-align: right;\n",
       "    }\n",
       "</style>\n",
       "<table border=\"1\" class=\"dataframe\">\n",
       "  <thead>\n",
       "    <tr style=\"text-align: right;\">\n",
       "      <th></th>\n",
       "      <th>Country/Region</th>\n",
       "      <th>value</th>\n",
       "    </tr>\n",
       "  </thead>\n",
       "  <tbody>\n",
       "    <tr>\n",
       "      <th>174</th>\n",
       "      <td>US</td>\n",
       "      <td>256188640</td>\n",
       "    </tr>\n",
       "    <tr>\n",
       "      <th>23</th>\n",
       "      <td>Brazil</td>\n",
       "      <td>108024882</td>\n",
       "    </tr>\n",
       "    <tr>\n",
       "      <th>79</th>\n",
       "      <td>India</td>\n",
       "      <td>52737993</td>\n",
       "    </tr>\n",
       "  </tbody>\n",
       "</table>\n",
       "</div>"
      ],
      "text/plain": [
       "    Country/Region      value\n",
       "174             US  256188640\n",
       "23          Brazil  108024882\n",
       "79           India   52737993"
      ]
     },
     "execution_count": 3,
     "metadata": {},
     "output_type": "execute_result"
    }
   ],
   "source": [
    "# Removing not essential columns for data preparation.\n",
    "coviddrop = covid.drop(['Lat','Long'],axis = 1)\n",
    "coviddrop\n",
    "covidMelt = coviddrop.melt(id_vars = ['Country/Region'])\n",
    "coviddropNan = covidMelt.dropna()\n",
    "coviddropvariable = coviddropNan[coviddropNan['variable'] != 'Province/State']\n",
    "covidtopCountries = coviddropvariable.groupby(['Country/Region'])['value'].sum().reset_index().sort_values(by = 'value',ascending = False)\n",
    "covidtopCountries[0:3] "
   ]
  },
  {
   "cell_type": "code",
   "execution_count": 4,
   "id": "a4639dfb",
   "metadata": {},
   "outputs": [],
   "source": [
    "# Here top three countries of confirmed cases are US, Brazil and India. \n",
    "# US has 25Million cases \n",
    "# Brazil has 10 Million cases \n",
    "# India has 5 Million cases "
   ]
  },
  {
   "cell_type": "code",
   "execution_count": 5,
   "id": "6ca1a08e",
   "metadata": {},
   "outputs": [
    {
     "data": {
      "text/html": [
       "<div>\n",
       "<style scoped>\n",
       "    .dataframe tbody tr th:only-of-type {\n",
       "        vertical-align: middle;\n",
       "    }\n",
       "\n",
       "    .dataframe tbody tr th {\n",
       "        vertical-align: top;\n",
       "    }\n",
       "\n",
       "    .dataframe thead th {\n",
       "        text-align: right;\n",
       "    }\n",
       "</style>\n",
       "<table border=\"1\" class=\"dataframe\">\n",
       "  <thead>\n",
       "    <tr style=\"text-align: right;\">\n",
       "      <th></th>\n",
       "      <th>Country</th>\n",
       "      <th>Date</th>\n",
       "      <th>No of Cases</th>\n",
       "      <th>Parsed Date</th>\n",
       "    </tr>\n",
       "  </thead>\n",
       "  <tbody>\n",
       "    <tr>\n",
       "      <th>0</th>\n",
       "      <td>Brazil</td>\n",
       "      <td>2020-01-15</td>\n",
       "      <td>0</td>\n",
       "      <td>1/15</td>\n",
       "    </tr>\n",
       "    <tr>\n",
       "      <th>14</th>\n",
       "      <td>India</td>\n",
       "      <td>2020-01-15</td>\n",
       "      <td>1</td>\n",
       "      <td>1/15</td>\n",
       "    </tr>\n",
       "    <tr>\n",
       "      <th>28</th>\n",
       "      <td>US</td>\n",
       "      <td>2020-01-15</td>\n",
       "      <td>31</td>\n",
       "      <td>1/15</td>\n",
       "    </tr>\n",
       "    <tr>\n",
       "      <th>1</th>\n",
       "      <td>Brazil</td>\n",
       "      <td>2020-01-31</td>\n",
       "      <td>0</td>\n",
       "      <td>1/31</td>\n",
       "    </tr>\n",
       "    <tr>\n",
       "      <th>15</th>\n",
       "      <td>India</td>\n",
       "      <td>2020-01-31</td>\n",
       "      <td>40</td>\n",
       "      <td>1/31</td>\n",
       "    </tr>\n",
       "    <tr>\n",
       "      <th>29</th>\n",
       "      <td>US</td>\n",
       "      <td>2020-01-31</td>\n",
       "      <td>161</td>\n",
       "      <td>1/31</td>\n",
       "    </tr>\n",
       "    <tr>\n",
       "      <th>2</th>\n",
       "      <td>Brazil</td>\n",
       "      <td>2020-02-15</td>\n",
       "      <td>3</td>\n",
       "      <td>2/15</td>\n",
       "    </tr>\n",
       "    <tr>\n",
       "      <th>16</th>\n",
       "      <td>India</td>\n",
       "      <td>2020-02-15</td>\n",
       "      <td>42</td>\n",
       "      <td>2/15</td>\n",
       "    </tr>\n",
       "    <tr>\n",
       "      <th>30</th>\n",
       "      <td>US</td>\n",
       "      <td>2020-02-15</td>\n",
       "      <td>200</td>\n",
       "      <td>2/15</td>\n",
       "    </tr>\n",
       "    <tr>\n",
       "      <th>31</th>\n",
       "      <td>US</td>\n",
       "      <td>2020-02-29</td>\n",
       "      <td>10395</td>\n",
       "      <td>2/29</td>\n",
       "    </tr>\n",
       "  </tbody>\n",
       "</table>\n",
       "</div>"
      ],
      "text/plain": [
       "   Country       Date No of Cases Parsed Date\n",
       "0   Brazil 2020-01-15           0        1/15\n",
       "14   India 2020-01-15           1        1/15\n",
       "28      US 2020-01-15          31        1/15\n",
       "1   Brazil 2020-01-31           0        1/31\n",
       "15   India 2020-01-31          40        1/31\n",
       "29      US 2020-01-31         161        1/31\n",
       "2   Brazil 2020-02-15           3        2/15\n",
       "16   India 2020-02-15          42        2/15\n",
       "30      US 2020-02-15         200        2/15\n",
       "31      US 2020-02-29       10395        2/29"
      ]
     },
     "execution_count": 5,
     "metadata": {},
     "output_type": "execute_result"
    }
   ],
   "source": [
    "#Selecting top countries for more analysis of EDA\n",
    "\n",
    "Covidtop3countries = coviddropvariable.loc[coviddropvariable['Country/Region'].isin(['US','Brazil','India'])]\n",
    "set(Covidtop3countries['Country/Region'])\n",
    "\n",
    "#Renaming columns  and grouping data \n",
    "\n",
    "pd.set_option('mode.chained_assignment',None)\n",
    "Covidtop3countries.columns = ['Country','Date','No of Cases']\n",
    "Covidtop3countries['Date'] = pd.to_datetime(Covidtop3countries.Date)\n",
    "Covidtop3countriesGroup = Covidtop3countries.groupby(['Country',pd.Grouper(key = 'Date', freq = 'SM')])['No of Cases'].sum().reset_index().sort_values('Date')\n",
    "Covidtop3countriesGroup\n",
    "Covidtop3countriesGroup1 = Covidtop3countriesGroup[Covidtop3countriesGroup['Date'] < '2020-06-30']\n",
    "Covidtop3countriesGroup1\n",
    "Covidtop3countriesGroup1['Parsed Date'] = Covidtop3countriesGroup1['Date'].astype(str)\n",
    "Covidtop3countriesGroup1['Parsed Date'] =  Covidtop3countriesGroup1['Parsed Date'].str[6:]\n",
    "Covidtop3countriesGroup1['Parsed Date'] = Covidtop3countriesGroup1['Parsed Date'].replace({'-':'/'}, regex=True)\n",
    "Covidtop3countriesGroup1[0:10]"
   ]
  },
  {
   "cell_type": "code",
   "execution_count": 6,
   "id": "e980c40e",
   "metadata": {},
   "outputs": [],
   "source": [
    "#Turns large tick values (in the billions, millions and thousands) such as 4500 into 4.5K and also appropriately turns 4000 into 4K (no zero after the decimal).\n",
    "def reformat_large_tick_values(tick_val, pos):\n",
    "\n",
    "    if tick_val >= 1000000000:\n",
    "        val = round(tick_val/1000000000, 1)\n",
    "        new_tick_format = '{:}Billion'.format(val)\n",
    "    elif tick_val >= 1000000:\n",
    "        val = round(tick_val/1000000, 1)\n",
    "        new_tick_format = '{:}Million'.format(val)\n",
    "    elif tick_val >= 1000:\n",
    "        val = round(tick_val/1000, 1)\n",
    "        new_tick_format = '{:}K'.format(val)\n",
    "    elif tick_val < 1000:\n",
    "        new_tick_format = round(tick_val, 1)\n",
    "    else:\n",
    "        new_tick_format = tick_val\n",
    "\n",
    "    # make new_tick_format into a string value\n",
    "    new_tick_format = str(new_tick_format)\n",
    "    \n",
    "    # code below will keep 4.5M as is but change values such as 4.0M to 4M since that zero after the decimal isn't needed\n",
    "    index_of_decimal = new_tick_format.find(\".\")\n",
    "    \n",
    "    if index_of_decimal != -1:\n",
    "        value_after_decimal = new_tick_format[index_of_decimal+1]\n",
    "        if value_after_decimal == \"0\":\n",
    "            # remove the 0 after the decimal point since it's not needed\n",
    "            new_tick_format = new_tick_format[0:index_of_decimal] + new_tick_format[index_of_decimal+2:]\n",
    "            \n",
    "    return new_tick_format"
   ]
  },
  {
   "cell_type": "code",
   "execution_count": 7,
   "id": "3f6eeb9f",
   "metadata": {},
   "outputs": [
    {
     "data": {
      "text/plain": [
       "<function matplotlib.pyplot.show(close=None, block=None)>"
      ]
     },
     "execution_count": 7,
     "metadata": {},
     "output_type": "execute_result"
    },
    {
     "data": {
      "image/png": "[encoded data removed]",
      "text/plain": [
       "<Figure size 1080x864 with 1 Axes>"
      ]
     },
     "metadata": {},
     "output_type": "display_data"
    }
   ],
   "source": [
    "# Definning dictionary\n",
    "color = {'US':'coral','Brazil':'red','India':'blue'}\n",
    "color\n",
    "\n",
    "# Creating subplots\n",
    "fig,ax = plt.subplots(figsize = (15,12))\n",
    "\n",
    "for label,df in Covidtop3countriesGroup1.groupby(['Country']):\n",
    "        df.plot(kind = 'line',x = 'Date', y = 'No of Cases',ax =ax,label = label, color = color[label])\n",
    "\n",
    "# Formating Y axis\n",
    "plt.ticklabel_format(style = 'plain',axis = 'y')\n",
    "\n",
    "\n",
    "# Define colors\n",
    "color_annotation = {'US':'ro','Brazil':'ro','India':'bo'}\n",
    "color_annotation\n",
    "\n",
    "# Picking maximum point to annotate the coordinates\n",
    "CovidFinalMax = Covidtop3countriesGroup1.groupby(['Country'])['Date'].transform(max) == Covidtop3countriesGroup1['Date']\n",
    "CovidFinal = Covidtop3countriesGroup1[CovidFinalMax]\n",
    "CovidFinal\n",
    "\n",
    "# adding same line color and text color\n",
    "for Country,date,Cases,parseddate in zip(CovidFinal['Country'],CovidFinal['Date'],CovidFinal['No of Cases'],CovidFinal['Parsed Date']):\n",
    "        xmax = pd.to_datetime(date)\n",
    "        ymax = Cases\n",
    "        ax.plot(xmax,ymax+100000,color_annotation[Country])\n",
    "        ax.text(xmax,ymax+600000,Country,color = color[Country],fontsize = 13,fontweight='bold')\n",
    " \n",
    "\n",
    "# Selecting one countries and adding information in the chart\n",
    "CovidUS = Covidtop3countriesGroup1[Covidtop3countriesGroup1['Country'] == 'US']\n",
    "for Country,date,Cases,parseddate,case1 in zip(CovidUS['Country'],CovidUS['Date'],CovidUS['No of Cases'],CovidUS['Parsed Date'],CovidUS['No of Cases'].apply(lambda x : \"{:,}\".format(x))):\n",
    "        xmax = pd.to_datetime(date)\n",
    "        ymax = Cases\n",
    "        ax.plot(xmax,ymax+100000,color_annotation[Country])\n",
    "        ax.text(xmax,ymax-800000,case1,color = color[Country],fontsize = 13,va = 'center')\n",
    "\n",
    "# Position of text field\n",
    "xcord = pd.to_datetime('2020-03-24')\n",
    "ax.annotate(\"Exponential growth in the\\n no of cases for US\", xy=(xcord, 20000000),\n",
    "            xytext=(xcord, 20000000),color='steelblue',style='italic')\n",
    "\n",
    "# Position of text field\n",
    "xcord = pd.to_datetime('2020-04-10')\n",
    "ax.annotate(\"Trends seems to incease\", xy=(xcord, 8000000),\n",
    "            xytext=(xcord, 8000000),color='coral',style='italic')\n",
    "\n",
    "# Removing legend from left side\n",
    "ax.get_legend().remove()\n",
    "\n",
    "# Formating date in x axis\n",
    "date_form = DateFormatter(\"%m-%d\")\n",
    "ax.xaxis.set_major_formatter(date_form)\n",
    "ax.yaxis.set_major_formatter(tick.FuncFormatter(reformat_large_tick_values))\n",
    "\n",
    "# setting grid as true\n",
    "ax.grid(True)\n",
    "\n",
    "\n",
    "# Adding title\n",
    "plt.title('Top 3 Countries with COVID-19  Cases \\n',y=1.02, fontsize =25,style='italic')\n",
    "plt.ylabel('Confirmed Cases [in Million]', labelpad =20, fontsize =18)\n",
    "plt.xlabel('Date', labelpad =20, fontsize =18)\n",
    "plt.show"
   ]
  },
  {
   "cell_type": "code",
   "execution_count": 8,
   "id": "a05c2684",
   "metadata": {},
   "outputs": [],
   "source": [
    "# The spike on cases arises within a week in this reason and we can assume the level of spreding of COVID -19\n",
    "# Few insights can be made\n",
    "#1. Spread in US is much higher within a week and preventive measurment wasnt taken at right time.\n",
    "#2. China remains close by doesnt have great impact on India and neighboring country. "
   ]
  },
  {
   "cell_type": "code",
   "execution_count": 9,
   "id": "f806a91f",
   "metadata": {},
   "outputs": [],
   "source": [
    "#---------------\n",
    "# RENAME COLUMNS\n",
    "#---------------\n",
    "covid_data = covid_data.rename(\n",
    "        columns = {'Province/State':'subregion'\n",
    "                   ,'Country/Region':'country'\n",
    "                   ,'Lat':'lat'\n",
    "                   ,'Long':'long'\n",
    "                   }\n",
    "        )"
   ]
  },
  {
   "cell_type": "code",
   "execution_count": 10,
   "id": "bd64a7ae",
   "metadata": {},
   "outputs": [],
   "source": [
    "#==================================\n",
    "# RESHAPE THE DATA\n",
    "# - melt the data into 'tidy' shape\n",
    "#==================================\n",
    "covid_data = (covid_data.melt(id_vars = ['country','subregion','lat','long']\n",
    "                 ,var_name = 'date_RAW'\n",
    "                 ,value_name = 'confirmed'\n",
    "                 )\n",
    ")"
   ]
  },
  {
   "cell_type": "code",
   "execution_count": 11,
   "id": "509f36b3",
   "metadata": {},
   "outputs": [
    {
     "data": {
      "text/html": [
       "<div>\n",
       "<style scoped>\n",
       "    .dataframe tbody tr th:only-of-type {\n",
       "        vertical-align: middle;\n",
       "    }\n",
       "\n",
       "    .dataframe tbody tr th {\n",
       "        vertical-align: top;\n",
       "    }\n",
       "\n",
       "    .dataframe thead th {\n",
       "        text-align: right;\n",
       "    }\n",
       "</style>\n",
       "<table border=\"1\" class=\"dataframe\">\n",
       "  <thead>\n",
       "    <tr style=\"text-align: right;\">\n",
       "      <th></th>\n",
       "      <th>date_RAW</th>\n",
       "    </tr>\n",
       "  </thead>\n",
       "  <tbody>\n",
       "    <tr>\n",
       "      <th>0</th>\n",
       "      <td>1/22/20</td>\n",
       "    </tr>\n",
       "    <tr>\n",
       "      <th>1</th>\n",
       "      <td>1/22/20</td>\n",
       "    </tr>\n",
       "    <tr>\n",
       "      <th>2</th>\n",
       "      <td>1/22/20</td>\n",
       "    </tr>\n",
       "    <tr>\n",
       "      <th>3</th>\n",
       "      <td>1/22/20</td>\n",
       "    </tr>\n",
       "    <tr>\n",
       "      <th>4</th>\n",
       "      <td>1/22/20</td>\n",
       "    </tr>\n",
       "    <tr>\n",
       "      <th>...</th>\n",
       "      <td>...</td>\n",
       "    </tr>\n",
       "    <tr>\n",
       "      <th>51865</th>\n",
       "      <td>08/03/20</td>\n",
       "    </tr>\n",
       "    <tr>\n",
       "      <th>51866</th>\n",
       "      <td>08/03/20</td>\n",
       "    </tr>\n",
       "    <tr>\n",
       "      <th>51867</th>\n",
       "      <td>08/03/20</td>\n",
       "    </tr>\n",
       "    <tr>\n",
       "      <th>51868</th>\n",
       "      <td>08/03/20</td>\n",
       "    </tr>\n",
       "    <tr>\n",
       "      <th>51869</th>\n",
       "      <td>08/03/20</td>\n",
       "    </tr>\n",
       "  </tbody>\n",
       "</table>\n",
       "<p>51870 rows × 1 columns</p>\n",
       "</div>"
      ],
      "text/plain": [
       "       date_RAW\n",
       "0       1/22/20\n",
       "1       1/22/20\n",
       "2       1/22/20\n",
       "3       1/22/20\n",
       "4       1/22/20\n",
       "...         ...\n",
       "51865  08/03/20\n",
       "51866  08/03/20\n",
       "51867  08/03/20\n",
       "51868  08/03/20\n",
       "51869  08/03/20\n",
       "\n",
       "[51870 rows x 1 columns]"
      ]
     },
     "execution_count": 11,
     "metadata": {},
     "output_type": "execute_result"
    }
   ],
   "source": [
    "#--------------\n",
    "# CONVERT DATES\n",
    "#--------------\n",
    "\n",
    "# INSPECT DATES\n",
    "(covid_data\n",
    "    .filter(['date_RAW'])\n",
    ")"
   ]
  },
  {
   "cell_type": "code",
   "execution_count": 12,
   "id": "2079af47",
   "metadata": {},
   "outputs": [],
   "source": [
    "#-------------\n",
    "# CONVERT DATE\n",
    "#-------------\n",
    "covid_data = covid_data.assign(\n",
    "         date = pd.to_datetime(covid_data.date_RAW, format='%m/%d/%y')\n",
    "         )"
   ]
  },
  {
   "cell_type": "code",
   "execution_count": 13,
   "id": "19f523b9",
   "metadata": {},
   "outputs": [
    {
     "data": {
      "text/html": [
       "<div>\n",
       "<style scoped>\n",
       "    .dataframe tbody tr th:only-of-type {\n",
       "        vertical-align: middle;\n",
       "    }\n",
       "\n",
       "    .dataframe tbody tr th {\n",
       "        vertical-align: top;\n",
       "    }\n",
       "\n",
       "    .dataframe thead th {\n",
       "        text-align: right;\n",
       "    }\n",
       "</style>\n",
       "<table border=\"1\" class=\"dataframe\">\n",
       "  <thead>\n",
       "    <tr style=\"text-align: right;\">\n",
       "      <th></th>\n",
       "      <th>country</th>\n",
       "      <th>subregion</th>\n",
       "      <th>date</th>\n",
       "      <th>lat</th>\n",
       "      <th>long</th>\n",
       "      <th>confirmed</th>\n",
       "    </tr>\n",
       "  </thead>\n",
       "  <tbody>\n",
       "    <tr>\n",
       "      <th>0</th>\n",
       "      <td>Afghanistan</td>\n",
       "      <td>NaN</td>\n",
       "      <td>2020-01-22</td>\n",
       "      <td>33.93911</td>\n",
       "      <td>67.709953</td>\n",
       "      <td>0</td>\n",
       "    </tr>\n",
       "    <tr>\n",
       "      <th>266</th>\n",
       "      <td>Afghanistan</td>\n",
       "      <td>NaN</td>\n",
       "      <td>2020-01-23</td>\n",
       "      <td>33.93911</td>\n",
       "      <td>67.709953</td>\n",
       "      <td>0</td>\n",
       "    </tr>\n",
       "    <tr>\n",
       "      <th>532</th>\n",
       "      <td>Afghanistan</td>\n",
       "      <td>NaN</td>\n",
       "      <td>2020-01-24</td>\n",
       "      <td>33.93911</td>\n",
       "      <td>67.709953</td>\n",
       "      <td>0</td>\n",
       "    </tr>\n",
       "    <tr>\n",
       "      <th>798</th>\n",
       "      <td>Afghanistan</td>\n",
       "      <td>NaN</td>\n",
       "      <td>2020-01-25</td>\n",
       "      <td>33.93911</td>\n",
       "      <td>67.709953</td>\n",
       "      <td>0</td>\n",
       "    </tr>\n",
       "    <tr>\n",
       "      <th>1064</th>\n",
       "      <td>Afghanistan</td>\n",
       "      <td>NaN</td>\n",
       "      <td>2020-01-26</td>\n",
       "      <td>33.93911</td>\n",
       "      <td>67.709953</td>\n",
       "      <td>0</td>\n",
       "    </tr>\n",
       "  </tbody>\n",
       "</table>\n",
       "</div>"
      ],
      "text/plain": [
       "          country subregion       date       lat       long  confirmed\n",
       "0     Afghanistan       NaN 2020-01-22  33.93911  67.709953          0\n",
       "266   Afghanistan       NaN 2020-01-23  33.93911  67.709953          0\n",
       "532   Afghanistan       NaN 2020-01-24  33.93911  67.709953          0\n",
       "798   Afghanistan       NaN 2020-01-25  33.93911  67.709953          0\n",
       "1064  Afghanistan       NaN 2020-01-26  33.93911  67.709953          0"
      ]
     },
     "execution_count": 13,
     "metadata": {},
     "output_type": "execute_result"
    }
   ],
   "source": [
    "#=====================\n",
    "# SORT & REARANGE DATA\n",
    "#=====================\n",
    "covid_data = (covid_data\n",
    "               .filter(['country', 'subregion', 'date', 'lat', 'long', 'confirmed'])\n",
    "               .sort_values(['country','subregion','lat','long','date'])\n",
    "               )\n",
    "covid_data.head()"
   ]
  },
  {
   "cell_type": "code",
   "execution_count": 14,
   "id": "4bc88bc8",
   "metadata": {},
   "outputs": [],
   "source": [
    "# SET INDEX\n",
    "covid_data.set_index('country', inplace = True)"
   ]
  },
  {
   "cell_type": "code",
   "execution_count": 15,
   "id": "9101938b",
   "metadata": {},
   "outputs": [
    {
     "data": {
      "text/html": [
       "<div>\n",
       "<style scoped>\n",
       "    .dataframe tbody tr th:only-of-type {\n",
       "        vertical-align: middle;\n",
       "    }\n",
       "\n",
       "    .dataframe tbody tr th {\n",
       "        vertical-align: top;\n",
       "    }\n",
       "\n",
       "    .dataframe thead th {\n",
       "        text-align: right;\n",
       "    }\n",
       "</style>\n",
       "<table border=\"1\" class=\"dataframe\">\n",
       "  <thead>\n",
       "    <tr style=\"text-align: right;\">\n",
       "      <th></th>\n",
       "      <th>country</th>\n",
       "    </tr>\n",
       "  </thead>\n",
       "  <tbody>\n",
       "    <tr>\n",
       "      <th>0</th>\n",
       "      <td>Afghanistan</td>\n",
       "    </tr>\n",
       "    <tr>\n",
       "      <th>195</th>\n",
       "      <td>Albania</td>\n",
       "    </tr>\n",
       "    <tr>\n",
       "      <th>390</th>\n",
       "      <td>Algeria</td>\n",
       "    </tr>\n",
       "    <tr>\n",
       "      <th>585</th>\n",
       "      <td>Andorra</td>\n",
       "    </tr>\n",
       "    <tr>\n",
       "      <th>780</th>\n",
       "      <td>Angola</td>\n",
       "    </tr>\n",
       "    <tr>\n",
       "      <th>...</th>\n",
       "      <td>...</td>\n",
       "    </tr>\n",
       "    <tr>\n",
       "      <th>50895</th>\n",
       "      <td>West Bank and Gaza</td>\n",
       "    </tr>\n",
       "    <tr>\n",
       "      <th>51090</th>\n",
       "      <td>Western Sahara</td>\n",
       "    </tr>\n",
       "    <tr>\n",
       "      <th>51285</th>\n",
       "      <td>Yemen</td>\n",
       "    </tr>\n",
       "    <tr>\n",
       "      <th>51480</th>\n",
       "      <td>Zambia</td>\n",
       "    </tr>\n",
       "    <tr>\n",
       "      <th>51675</th>\n",
       "      <td>Zimbabwe</td>\n",
       "    </tr>\n",
       "  </tbody>\n",
       "</table>\n",
       "<p>188 rows × 1 columns</p>\n",
       "</div>"
      ],
      "text/plain": [
       "                  country\n",
       "0             Afghanistan\n",
       "195               Albania\n",
       "390               Algeria\n",
       "585               Andorra\n",
       "780                Angola\n",
       "...                   ...\n",
       "50895  West Bank and Gaza\n",
       "51090      Western Sahara\n",
       "51285               Yemen\n",
       "51480              Zambia\n",
       "51675            Zimbabwe\n",
       "\n",
       "[188 rows x 1 columns]"
      ]
     },
     "execution_count": 15,
     "metadata": {},
     "output_type": "execute_result"
    }
   ],
   "source": [
    "# GET COUNTRY NAMES\n",
    "pd.set_option('display.max_rows', 155)\n",
    "(covid_data\n",
    "    .reset_index()\n",
    "    .filter(['country'])\n",
    "    .drop_duplicates()\n",
    "    .head(n = 200)\n",
    ")"
   ]
  },
  {
   "cell_type": "code",
   "execution_count": 16,
   "id": "999c73d9",
   "metadata": {},
   "outputs": [
    {
     "data": {
      "text/html": [
       "<div>\n",
       "<style scoped>\n",
       "    .dataframe tbody tr th:only-of-type {\n",
       "        vertical-align: middle;\n",
       "    }\n",
       "\n",
       "    .dataframe tbody tr th {\n",
       "        vertical-align: top;\n",
       "    }\n",
       "\n",
       "    .dataframe thead th {\n",
       "        text-align: right;\n",
       "    }\n",
       "</style>\n",
       "<table border=\"1\" class=\"dataframe\">\n",
       "  <thead>\n",
       "    <tr style=\"text-align: right;\">\n",
       "      <th></th>\n",
       "      <th>subregion</th>\n",
       "      <th>date</th>\n",
       "      <th>lat</th>\n",
       "      <th>long</th>\n",
       "      <th>confirmed</th>\n",
       "      <th>Week Number</th>\n",
       "    </tr>\n",
       "    <tr>\n",
       "      <th>country</th>\n",
       "      <th></th>\n",
       "      <th></th>\n",
       "      <th></th>\n",
       "      <th></th>\n",
       "      <th></th>\n",
       "      <th></th>\n",
       "    </tr>\n",
       "  </thead>\n",
       "  <tbody>\n",
       "    <tr>\n",
       "      <th>Afghanistan</th>\n",
       "      <td>NaN</td>\n",
       "      <td>2020-01-22</td>\n",
       "      <td>33.93911</td>\n",
       "      <td>67.709953</td>\n",
       "      <td>0</td>\n",
       "      <td>1</td>\n",
       "    </tr>\n",
       "    <tr>\n",
       "      <th>Afghanistan</th>\n",
       "      <td>NaN</td>\n",
       "      <td>2020-01-23</td>\n",
       "      <td>33.93911</td>\n",
       "      <td>67.709953</td>\n",
       "      <td>0</td>\n",
       "      <td>1</td>\n",
       "    </tr>\n",
       "    <tr>\n",
       "      <th>Afghanistan</th>\n",
       "      <td>NaN</td>\n",
       "      <td>2020-01-24</td>\n",
       "      <td>33.93911</td>\n",
       "      <td>67.709953</td>\n",
       "      <td>0</td>\n",
       "      <td>1</td>\n",
       "    </tr>\n",
       "    <tr>\n",
       "      <th>Afghanistan</th>\n",
       "      <td>NaN</td>\n",
       "      <td>2020-01-25</td>\n",
       "      <td>33.93911</td>\n",
       "      <td>67.709953</td>\n",
       "      <td>0</td>\n",
       "      <td>1</td>\n",
       "    </tr>\n",
       "    <tr>\n",
       "      <th>Afghanistan</th>\n",
       "      <td>NaN</td>\n",
       "      <td>2020-01-26</td>\n",
       "      <td>33.93911</td>\n",
       "      <td>67.709953</td>\n",
       "      <td>0</td>\n",
       "      <td>1</td>\n",
       "    </tr>\n",
       "  </tbody>\n",
       "</table>\n",
       "</div>"
      ],
      "text/plain": [
       "            subregion       date       lat       long  confirmed  Week Number\n",
       "country                                                                      \n",
       "Afghanistan       NaN 2020-01-22  33.93911  67.709953          0            1\n",
       "Afghanistan       NaN 2020-01-23  33.93911  67.709953          0            1\n",
       "Afghanistan       NaN 2020-01-24  33.93911  67.709953          0            1\n",
       "Afghanistan       NaN 2020-01-25  33.93911  67.709953          0            1\n",
       "Afghanistan       NaN 2020-01-26  33.93911  67.709953          0            1"
      ]
     },
     "execution_count": 16,
     "metadata": {},
     "output_type": "execute_result"
    }
   ],
   "source": [
    "# Add week number in our dataset\n",
    "\n",
    "year_start = '2020-01-22'\n",
    "year_end = '2020-03-08'\n",
    "\n",
    "# Add the week number\n",
    "\n",
    "covid_data['Week Number'] = (((covid_data.date.view(np.int64) - pd.to_datetime([year_start]).view(np.int64)) / \n",
    "                      (1e9 * 60 * 60 * 24) - covid_data.date.dt.day_of_week + 7) // 7 + 1).astype(np.int64)\n",
    "covid_data.head()"
   ]
  },
  {
   "cell_type": "code",
   "execution_count": 17,
   "id": "debf0166",
   "metadata": {},
   "outputs": [
    {
     "data": {
      "text/html": [
       "<div>\n",
       "<style scoped>\n",
       "    .dataframe tbody tr th:only-of-type {\n",
       "        vertical-align: middle;\n",
       "    }\n",
       "\n",
       "    .dataframe tbody tr th {\n",
       "        vertical-align: top;\n",
       "    }\n",
       "\n",
       "    .dataframe thead th {\n",
       "        text-align: right;\n",
       "    }\n",
       "</style>\n",
       "<table border=\"1\" class=\"dataframe\">\n",
       "  <thead>\n",
       "    <tr style=\"text-align: right;\">\n",
       "      <th></th>\n",
       "      <th>country</th>\n",
       "      <th>lat</th>\n",
       "      <th>long</th>\n",
       "      <th>confirmed</th>\n",
       "      <th>Week Number</th>\n",
       "    </tr>\n",
       "  </thead>\n",
       "  <tbody>\n",
       "    <tr>\n",
       "      <th>0</th>\n",
       "      <td>US</td>\n",
       "      <td>7800.00000</td>\n",
       "      <td>-19500.0000</td>\n",
       "      <td>256188640</td>\n",
       "      <td>2869</td>\n",
       "    </tr>\n",
       "    <tr>\n",
       "      <th>1</th>\n",
       "      <td>Brazil</td>\n",
       "      <td>-2775.82500</td>\n",
       "      <td>-10125.4335</td>\n",
       "      <td>108024882</td>\n",
       "      <td>2869</td>\n",
       "    </tr>\n",
       "    <tr>\n",
       "      <th>2</th>\n",
       "      <td>India</td>\n",
       "      <td>4015.76838</td>\n",
       "      <td>15397.7616</td>\n",
       "      <td>52737993</td>\n",
       "      <td>2869</td>\n",
       "    </tr>\n",
       "  </tbody>\n",
       "</table>\n",
       "</div>"
      ],
      "text/plain": [
       "  country         lat        long  confirmed  Week Number\n",
       "0      US  7800.00000 -19500.0000  256188640         2869\n",
       "1  Brazil -2775.82500 -10125.4335  108024882         2869\n",
       "2   India  4015.76838  15397.7616   52737993         2869"
      ]
     },
     "execution_count": 17,
     "metadata": {},
     "output_type": "execute_result"
    }
   ],
   "source": [
    "#Top Three Countries \n",
    "\n",
    "covidtopCountries = covid_data.groupby(['country']).sum().sort_values(by = 'confirmed',ascending = False)\n",
    "topcountry=covidtopCountries[0:3] \n",
    "topcountry.reset_index()"
   ]
  },
  {
   "cell_type": "code",
   "execution_count": 18,
   "id": "bab6ca37",
   "metadata": {},
   "outputs": [
    {
     "data": {
      "image/png": "[encoded data removed]",
      "text/plain": [
       "<Figure size 720x432 with 1 Axes>"
      ]
     },
     "metadata": {},
     "output_type": "display_data"
    }
   ],
   "source": [
    "# Graphic illustrates Total cases in the world.\n",
    "topcountry = topcountry.head(3)\n",
    "x = topcountry.index\n",
    "y = topcountry['confirmed'].values\n",
    "\n",
    "plt.rcParams['figure.figsize'] = (10, 6)\n",
    "plt.bar(x, y, color=['blue', 'red', 'green'])\n",
    "plt.title('Total Confirmed Cases in Top 3 country')\n",
    "plt.show()"
   ]
  },
  {
   "cell_type": "code",
   "execution_count": 19,
   "id": "31132afc",
   "metadata": {},
   "outputs": [],
   "source": [
    "# Now we know top three countries to get the dataset and do the analysis. \n",
    "# US dataset preparation \n",
    "country = \"US\"\n",
    "us_cov19= covid_data_raw[covid_data_raw[\"Country/Region\"].values == country]\n",
    "us_cov19.head()\n",
    "us_cov19 = us_cov19.drop(columns ='Province/State')\n",
    "us_cov19 = us_cov19.drop(columns ='Country/Region')\n",
    "us_cov19 = us_cov19.drop(columns ='Lat')\n",
    "us_cov19 = us_cov19.drop(columns ='Long')"
   ]
  },
  {
   "cell_type": "code",
   "execution_count": 20,
   "id": "7395d8e7",
   "metadata": {},
   "outputs": [],
   "source": [
    "us_cov19=pd.melt(us_cov19,var_name='date',value_name='total')\n",
    "us_cov19['date'] = pd.to_datetime(us_cov19['date'])"
   ]
  },
  {
   "cell_type": "code",
   "execution_count": 22,
   "id": "07776d17",
   "metadata": {},
   "outputs": [
    {
     "data": {
      "text/html": [
       "<div>\n",
       "<style scoped>\n",
       "    .dataframe tbody tr th:only-of-type {\n",
       "        vertical-align: middle;\n",
       "    }\n",
       "\n",
       "    .dataframe tbody tr th {\n",
       "        vertical-align: top;\n",
       "    }\n",
       "\n",
       "    .dataframe thead th {\n",
       "        text-align: right;\n",
       "    }\n",
       "</style>\n",
       "<table border=\"1\" class=\"dataframe\">\n",
       "  <thead>\n",
       "    <tr style=\"text-align: right;\">\n",
       "      <th></th>\n",
       "      <th>date</th>\n",
       "      <th>total</th>\n",
       "      <th>Week Number</th>\n",
       "    </tr>\n",
       "  </thead>\n",
       "  <tbody>\n",
       "    <tr>\n",
       "      <th>0</th>\n",
       "      <td>2020-01-22</td>\n",
       "      <td>1</td>\n",
       "      <td>1</td>\n",
       "    </tr>\n",
       "    <tr>\n",
       "      <th>1</th>\n",
       "      <td>2020-01-23</td>\n",
       "      <td>1</td>\n",
       "      <td>1</td>\n",
       "    </tr>\n",
       "    <tr>\n",
       "      <th>2</th>\n",
       "      <td>2020-01-24</td>\n",
       "      <td>2</td>\n",
       "      <td>1</td>\n",
       "    </tr>\n",
       "    <tr>\n",
       "      <th>3</th>\n",
       "      <td>2020-01-25</td>\n",
       "      <td>2</td>\n",
       "      <td>1</td>\n",
       "    </tr>\n",
       "    <tr>\n",
       "      <th>4</th>\n",
       "      <td>2020-01-26</td>\n",
       "      <td>5</td>\n",
       "      <td>1</td>\n",
       "    </tr>\n",
       "    <tr>\n",
       "      <th>...</th>\n",
       "      <td>...</td>\n",
       "      <td>...</td>\n",
       "      <td>...</td>\n",
       "    </tr>\n",
       "    <tr>\n",
       "      <th>190</th>\n",
       "      <td>2020-07-30</td>\n",
       "      <td>4495015</td>\n",
       "      <td>28</td>\n",
       "    </tr>\n",
       "    <tr>\n",
       "      <th>191</th>\n",
       "      <td>2020-07-31</td>\n",
       "      <td>4562107</td>\n",
       "      <td>28</td>\n",
       "    </tr>\n",
       "    <tr>\n",
       "      <th>192</th>\n",
       "      <td>2020-08-01</td>\n",
       "      <td>4620592</td>\n",
       "      <td>28</td>\n",
       "    </tr>\n",
       "    <tr>\n",
       "      <th>193</th>\n",
       "      <td>2020-08-02</td>\n",
       "      <td>4668172</td>\n",
       "      <td>28</td>\n",
       "    </tr>\n",
       "    <tr>\n",
       "      <th>194</th>\n",
       "      <td>2020-08-03</td>\n",
       "      <td>4713540</td>\n",
       "      <td>29</td>\n",
       "    </tr>\n",
       "  </tbody>\n",
       "</table>\n",
       "<p>195 rows × 3 columns</p>\n",
       "</div>"
      ],
      "text/plain": [
       "          date    total  Week Number\n",
       "0   2020-01-22        1            1\n",
       "1   2020-01-23        1            1\n",
       "2   2020-01-24        2            1\n",
       "3   2020-01-25        2            1\n",
       "4   2020-01-26        5            1\n",
       "..         ...      ...          ...\n",
       "190 2020-07-30  4495015           28\n",
       "191 2020-07-31  4562107           28\n",
       "192 2020-08-01  4620592           28\n",
       "193 2020-08-02  4668172           28\n",
       "194 2020-08-03  4713540           29\n",
       "\n",
       "[195 rows x 3 columns]"
      ]
     },
     "execution_count": 22,
     "metadata": {},
     "output_type": "execute_result"
    }
   ],
   "source": [
    "\n",
    "# Add week number in our dataset\n",
    "\n",
    "year_start = '2020-01-22'\n",
    "year_end = '2020-08-03'\n",
    "\n",
    "# Add the week number\n",
    "\n",
    "us_cov19['Week Number'] = (((us_cov19.date.view(np.int64) - pd.to_datetime([year_start]).view(np.int64)) / \n",
    "                      (1e9 * 60 * 60 * 24) - us_cov19.date.dt.day_of_week + 7) // 7 + 1).astype(np.int64)\n",
    "us_cov19"
   ]
  },
  {
   "cell_type": "code",
   "execution_count": 23,
   "id": "e131d1fa",
   "metadata": {},
   "outputs": [],
   "source": [
    "us_cov19['date'] = pd.to_datetime(us_cov19['date'])\n",
    "grouped_df = us_cov19.groupby([\"total\", \"Week Number\"]).sum().reset_index()[[\"total\", \"Week Number\"]]"
   ]
  },
  {
   "cell_type": "code",
   "execution_count": 25,
   "id": "dfe4593e",
   "metadata": {},
   "outputs": [],
   "source": [
    "# Create the X and y variables\n",
    "X = grouped_df.index.values.reshape(-1, 1)\n",
    "y = grouped_df[\"total\"].values\n"
   ]
  },
  {
   "cell_type": "code",
   "execution_count": 26,
   "id": "6f6ab420",
   "metadata": {},
   "outputs": [
    {
     "data": {
      "image/png": "[encoded data removed]",
      "text/plain": [
       "<Figure size 720x432 with 1 Axes>"
      ]
     },
     "metadata": {},
     "output_type": "display_data"
    }
   ],
   "source": [
    "# Create the linear regression model\n",
    "model = LinearRegression().fit(X, y)\n",
    "\n",
    "# Make predictions\n",
    "y_pred = model.predict(X)\n",
    "\n",
    "# Visualize the results\n",
    "plt.plot(X, y, label='Confirmed Cases')\n",
    "plt.plot(X, y_pred, label='Linear Regression Model')\n",
    "plt.legend()\n",
    "plt.show()"
   ]
  },
  {
   "cell_type": "code",
   "execution_count": 27,
   "id": "6e1f0459",
   "metadata": {},
   "outputs": [
    {
     "name": "stdout",
     "output_type": "stream",
     "text": [
      "Intercept: -763053.5451516388\n",
      "Coefficient: [26602.72020784]\n",
      "R-squared: 0.934941361899514\n"
     ]
    }
   ],
   "source": [
    "print('Intercept:', model.intercept_)\n",
    "print('Coefficient:', model.coef_)\n",
    "print('R-squared:', model.score(X, y))\n",
    "\n",
    "# R sqaure shows 93% accuracy in our model and our prediction is as per anticipated analysis. "
   ]
  },
  {
   "cell_type": "code",
   "execution_count": 28,
   "id": "5a7a4703",
   "metadata": {},
   "outputs": [
    {
     "name": "stdout",
     "output_type": "stream",
     "text": [
      "Mean MSE: -123745431737.754\n",
      "Variance of MSE: 2436916168383514279936.000\n"
     ]
    }
   ],
   "source": [
    "from sklearn.model_selection import KFold\n",
    "from sklearn.model_selection import cross_val_score\n",
    "# define cross-validation method\n",
    "cv = KFold(n_splits=10, shuffle=True, random_state=1)\n",
    "\n",
    "# evaluate model using k-fold cross-validation\n",
    "scores = cross_val_score(model, X, y, scoring='neg_mean_squared_error', cv=cv)\n",
    "\n",
    "# report performance\n",
    "print('Mean MSE: %.3f' % np.mean(scores))\n",
    "print('Variance of MSE: %.3f' % np.var(scores, ddof=1))"
   ]
  },
  {
   "cell_type": "code",
   "execution_count": 29,
   "id": "f3e52e80",
   "metadata": {},
   "outputs": [
    {
     "data": {
      "image/png": "[encoded data removed]",
      "text/plain": [
       "<Figure size 720x432 with 1 Axes>"
      ]
     },
     "metadata": {},
     "output_type": "display_data"
    }
   ],
   "source": [
    "#The variance of the MSE indicates how much the performance of the model \n",
    "#varies across different cross-validation folds. A large variance of the MSE \n",
    "#suggests that the model is sensitive to the choice of training and testing subsets \n",
    "#and may not generalize well to new data. A variance of 2436916168383514279936 is an extremely large number, \n",
    "#so it suggests that the model is overfitting the training data and is not able to generalize well to new data.\n",
    "\n",
    "residuals = y - model.predict(X)\n",
    "plt.scatter(model.predict(X), residuals)\n",
    "plt.xlabel('Predicted Values')\n",
    "plt.ylabel('Residuals')\n",
    "plt.axhline(y=0, color='black', linestyle='--')\n",
    "plt.show()\n"
   ]
  },
  {
   "cell_type": "code",
   "execution_count": 30,
   "id": "c831d1f6",
   "metadata": {},
   "outputs": [],
   "source": [
    "# Now we know top three countries to get the dataset and do the analysis. \n",
    "\n",
    "country = \"Brazil\"\n",
    "b_cov19= covid_data_raw[covid_data_raw[\"Country/Region\"].values == country]\n",
    "b_cov19.head()\n",
    "b_cov19 = b_cov19.drop(columns ='Province/State')\n",
    "b_cov19 = b_cov19.drop(columns ='Country/Region')\n",
    "b_cov19 = b_cov19.drop(columns ='Lat')\n",
    "b_cov19 = b_cov19.drop(columns ='Long')"
   ]
  },
  {
   "cell_type": "code",
   "execution_count": 31,
   "id": "76e9113a",
   "metadata": {},
   "outputs": [],
   "source": [
    "b_cov19=pd.melt(b_cov19,var_name='date',value_name='total')\n",
    "b_cov19['date'] = pd.to_datetime(b_cov19['date'])\n"
   ]
  },
  {
   "cell_type": "code",
   "execution_count": 32,
   "id": "2d9f8d9a",
   "metadata": {},
   "outputs": [],
   "source": [
    "# Add week number in our dataset\n",
    "\n",
    "year_start = '2020-01-22'\n",
    "year_end = '2020-08-03'\n",
    "\n",
    "# Add the week number\n",
    "\n",
    "b_cov19['Week Number'] = (((b_cov19.date.view(np.int64) - pd.to_datetime([year_start]).view(np.int64)) / \n",
    "                      (1e9 * 60 * 60 * 24) - b_cov19.date.dt.day_of_week + 7) // 7 + 1).astype(np.int64)\n"
   ]
  },
  {
   "cell_type": "code",
   "execution_count": 33,
   "id": "3bfef653",
   "metadata": {},
   "outputs": [],
   "source": [
    "b_cov19['date'] = pd.to_datetime(b_cov19['date'])\n",
    "grouped_df1 = b_cov19.groupby([\"total\", \"Week Number\"]).sum().reset_index()[[\"total\", \"Week Number\"]]"
   ]
  },
  {
   "cell_type": "code",
   "execution_count": 34,
   "id": "774d92a1",
   "metadata": {},
   "outputs": [],
   "source": [
    "# Create the X and y variables\n",
    "X1 = grouped_df1.index.values.reshape(-1, 1)\n",
    "y1 = grouped_df1[\"total\"].values\n"
   ]
  },
  {
   "cell_type": "code",
   "execution_count": 35,
   "id": "75af5680",
   "metadata": {},
   "outputs": [
    {
     "data": {
      "image/png": "[encoded data removed]",
      "text/plain": [
       "<Figure size 720x432 with 1 Axes>"
      ]
     },
     "metadata": {},
     "output_type": "display_data"
    }
   ],
   "source": [
    "# Create the linear regression model\n",
    "model1 = LinearRegression().fit(X1, y1)\n",
    "\n",
    "# Make predictions\n",
    "y_pred1 = model.predict(X1)\n",
    "\n",
    "# Visualize the results\n",
    "plt.plot(X1, y1, label='Confirmed Cases')\n",
    "plt.plot(X1, y_pred1, label='Linear Regression Model')\n",
    "plt.legend()\n",
    "plt.show()"
   ]
  },
  {
   "cell_type": "code",
   "execution_count": 36,
   "id": "268f52e6",
   "metadata": {},
   "outputs": [
    {
     "name": "stdout",
     "output_type": "stream",
     "text": [
      "Intercept: -615129.0356132082\n",
      "Coefficient: [16386.45208682]\n",
      "R-squared: 0.8149649705667862\n"
     ]
    }
   ],
   "source": [
    "print('Intercept:', model1.intercept_)\n",
    "print('Coefficient:', model1.coef_)\n",
    "print('R-squared:', model1.score(X1, y1))\n"
   ]
  },
  {
   "cell_type": "code",
   "execution_count": 37,
   "id": "c9592d37",
   "metadata": {},
   "outputs": [
    {
     "name": "stdout",
     "output_type": "stream",
     "text": [
      "Mean MSE: -131666440866.198\n",
      "Variance of MSE: 526626867471238627328.000\n"
     ]
    }
   ],
   "source": [
    "from sklearn.model_selection import KFold\n",
    "from sklearn.model_selection import cross_val_score\n",
    "# define cross-validation method\n",
    "cv1 = KFold(n_splits=10, shuffle=True, random_state=1)\n",
    "\n",
    "# evaluate model using k-fold cross-validation\n",
    "scores = cross_val_score(model1, X1, y1, scoring='neg_mean_squared_error', cv=cv1)\n",
    "\n",
    "# report performance\n",
    "print('Mean MSE: %.3f' % np.mean(scores))\n",
    "print('Variance of MSE: %.3f' % np.var(scores, ddof=1))"
   ]
  },
  {
   "cell_type": "code",
   "execution_count": 38,
   "id": "95a7bb3e",
   "metadata": {},
   "outputs": [
    {
     "data": {
      "image/png": "[encoded data removed]",
      "text/plain": [
       "<Figure size 720x432 with 1 Axes>"
      ]
     },
     "metadata": {},
     "output_type": "display_data"
    }
   ],
   "source": [
    "residuals1 = y1 - model.predict(X1)\n",
    "plt.scatter(model1.predict(X1), residuals1)\n",
    "plt.xlabel('Predicted Values')\n",
    "plt.ylabel('Residuals')\n",
    "plt.axhline(y=0, color='black', linestyle='--')\n",
    "plt.show()"
   ]
  },
  {
   "cell_type": "code",
   "execution_count": 39,
   "id": "922e4060",
   "metadata": {},
   "outputs": [],
   "source": [
    "country = \"India\"\n",
    "I_cov19= covid_data_raw[covid_data_raw[\"Country/Region\"].values == country]\n",
    "I_cov19.head()\n",
    "I_cov19 = I_cov19.drop(columns ='Province/State')\n",
    "I_cov19 = I_cov19.drop(columns ='Country/Region')\n",
    "I_cov19 = I_cov19.drop(columns ='Lat')\n",
    "I_cov19 = I_cov19.drop(columns ='Long')"
   ]
  },
  {
   "cell_type": "code",
   "execution_count": 40,
   "id": "b167876d",
   "metadata": {},
   "outputs": [],
   "source": [
    "I_cov19=pd.melt(I_cov19,var_name='date',value_name='total')\n",
    "I_cov19['date'] = pd.to_datetime(I_cov19['date'])\n"
   ]
  },
  {
   "cell_type": "code",
   "execution_count": 41,
   "id": "11ebd04a",
   "metadata": {},
   "outputs": [],
   "source": [
    "# Add week number in our dataset\n",
    "\n",
    "year_start = '2020-01-22'\n",
    "year_end = '2020-08-03'\n",
    "\n",
    "# Add the week number\n",
    "\n",
    "I_cov19['Week Number'] = (((I_cov19.date.view(np.int64) - pd.to_datetime([year_start]).view(np.int64)) / \n",
    "                      (1e9 * 60 * 60 * 24) - I_cov19.date.dt.day_of_week + 7) // 7 + 1).astype(np.int64)"
   ]
  },
  {
   "cell_type": "code",
   "execution_count": 42,
   "id": "690f6624",
   "metadata": {},
   "outputs": [],
   "source": [
    "I_cov19['date'] = pd.to_datetime(I_cov19['date'])\n",
    "grouped_df2 = I_cov19.groupby([\"total\", \"Week Number\"]).sum().reset_index()[[\"total\", \"Week Number\"]]"
   ]
  },
  {
   "cell_type": "code",
   "execution_count": 43,
   "id": "6c45aef5",
   "metadata": {},
   "outputs": [],
   "source": [
    "# Create the X and y variables\n",
    "X2 = grouped_df2.index.values.reshape(-1, 1)\n",
    "y2 = grouped_df2[\"total\"].values\n"
   ]
  },
  {
   "cell_type": "code",
   "execution_count": 44,
   "id": "535cbcab",
   "metadata": {},
   "outputs": [
    {
     "data": {
      "image/png": "[encoded data removed]",
      "text/plain": [
       "<Figure size 720x432 with 1 Axes>"
      ]
     },
     "metadata": {},
     "output_type": "display_data"
    }
   ],
   "source": [
    "# Create the linear regression model\n",
    "model2 = LinearRegression().fit(X2, y2)\n",
    "\n",
    "# Make predictions\n",
    "y_pred2 = model.predict(X2)\n",
    "\n",
    "# Visualize the results\n",
    "plt.plot(X2, y2, label='Confirmed Cases')\n",
    "plt.plot(X2, y_pred2, label='Linear Regression Model')\n",
    "plt.legend()\n",
    "plt.show()"
   ]
  },
  {
   "cell_type": "code",
   "execution_count": 45,
   "id": "fc9428d9",
   "metadata": {},
   "outputs": [
    {
     "name": "stdout",
     "output_type": "stream",
     "text": [
      "Intercept: -346303.56865863834\n",
      "Coefficient: [8345.91612014]\n",
      "R-squared: 0.6975043945543162\n"
     ]
    }
   ],
   "source": [
    "print('Intercept:', model2.intercept_)\n",
    "print('Coefficient:', model2.coef_)\n",
    "print('R-squared:', model2.score(X2, y2))\n"
   ]
  },
  {
   "cell_type": "code",
   "execution_count": 46,
   "id": "d464f9b8",
   "metadata": {},
   "outputs": [
    {
     "name": "stdout",
     "output_type": "stream",
     "text": [
      "Mean MSE: -66419273614.067\n",
      "Variance of MSE: 429634886042120552448.000\n"
     ]
    }
   ],
   "source": [
    "# define cross-validation method\n",
    "cv2 = KFold(n_splits=10, shuffle=True, random_state=1)\n",
    "\n",
    "# evaluate model using k-fold cross-validation\n",
    "scores = cross_val_score(model2, X2, y2, scoring='neg_mean_squared_error', cv=cv2)\n",
    "\n",
    "# report performance\n",
    "print('Mean MSE: %.3f' % np.mean(scores))\n",
    "print('Variance of MSE: %.3f' % np.var(scores, ddof=1))"
   ]
  },
  {
   "cell_type": "code",
   "execution_count": 47,
   "id": "81459743",
   "metadata": {},
   "outputs": [
    {
     "data": {
      "image/png": "[encoded data removed]",
      "text/plain": [
       "<Figure size 720x432 with 1 Axes>"
      ]
     },
     "metadata": {},
     "output_type": "display_data"
    }
   ],
   "source": [
    "residuals1 = y2 - model.predict(X2)\n",
    "plt.scatter(model1.predict(X2), residuals1)\n",
    "plt.xlabel('Predicted Values')\n",
    "plt.ylabel('Residuals')\n",
    "plt.axhline(y=0, color='black', linestyle='--')\n",
    "plt.show()"
   ]
  },
  {
   "cell_type": "code",
   "execution_count": 48,
   "id": "d6374d7a",
   "metadata": {},
   "outputs": [],
   "source": [
    "from sklearn.cluster import KMeans\n",
    "from sklearn.preprocessing import StandardScaler\n",
    "# scale the data using StandardScaler\n",
    "scaler = StandardScaler()\n",
    "X_scaled = scaler.fit_transform(np.array(X2).reshape(-1, 1))\n",
    "# Convert the datetime object to a Unix timestamp in seconds\n",
    "I_cov19['date'] = I_cov19['date'].astype(np.int64) // 10**9"
   ]
  },
  {
   "cell_type": "code",
   "execution_count": 49,
   "id": "f2aec5d9",
   "metadata": {},
   "outputs": [],
   "source": [
    "# Determine the optimal number of clusters using the elbow method\n",
    "df_India = []\n",
    "for i in range(1, 11):\n",
    "    kmeans = KMeans(n_clusters=i, init='k-means++', max_iter=300, n_init=10, random_state=0)\n",
    "    kmeans.fit(X2)\n",
    "    df_India.append(kmeans.inertia_)"
   ]
  },
  {
   "cell_type": "code",
   "execution_count": 50,
   "id": "a3e76953",
   "metadata": {},
   "outputs": [
    {
     "data": {
      "image/png": "[encoded data removed]",
      "text/plain": [
       "<Figure size 720x432 with 1 Axes>"
      ]
     },
     "metadata": {},
     "output_type": "display_data"
    }
   ],
   "source": [
    "# Plot the elbow graph to identify the optimal number of clusters\n",
    "import matplotlib.pyplot as plt\n",
    "plt.plot(range(1, 11), df_India)\n",
    "plt.title('Elbow Method')\n",
    "plt.xlabel('Number of clusters')\n",
    "plt.ylabel('India')\n",
    "plt.show()\n"
   ]
  },
  {
   "cell_type": "code",
   "execution_count": 51,
   "id": "61d4e929",
   "metadata": {},
   "outputs": [
    {
     "data": {
      "text/html": [
       "<div>\n",
       "<style scoped>\n",
       "    .dataframe tbody tr th:only-of-type {\n",
       "        vertical-align: middle;\n",
       "    }\n",
       "\n",
       "    .dataframe tbody tr th {\n",
       "        vertical-align: top;\n",
       "    }\n",
       "\n",
       "    .dataframe thead th {\n",
       "        text-align: right;\n",
       "    }\n",
       "</style>\n",
       "<table border=\"1\" class=\"dataframe\">\n",
       "  <thead>\n",
       "    <tr style=\"text-align: right;\">\n",
       "      <th></th>\n",
       "      <th>date</th>\n",
       "      <th>total</th>\n",
       "      <th>Week Number</th>\n",
       "    </tr>\n",
       "  </thead>\n",
       "  <tbody>\n",
       "    <tr>\n",
       "      <th>0</th>\n",
       "      <td>1579651200</td>\n",
       "      <td>0</td>\n",
       "      <td>1</td>\n",
       "    </tr>\n",
       "    <tr>\n",
       "      <th>1</th>\n",
       "      <td>1579737600</td>\n",
       "      <td>0</td>\n",
       "      <td>1</td>\n",
       "    </tr>\n",
       "    <tr>\n",
       "      <th>2</th>\n",
       "      <td>1579824000</td>\n",
       "      <td>0</td>\n",
       "      <td>1</td>\n",
       "    </tr>\n",
       "    <tr>\n",
       "      <th>3</th>\n",
       "      <td>1579910400</td>\n",
       "      <td>0</td>\n",
       "      <td>1</td>\n",
       "    </tr>\n",
       "    <tr>\n",
       "      <th>4</th>\n",
       "      <td>1579996800</td>\n",
       "      <td>0</td>\n",
       "      <td>1</td>\n",
       "    </tr>\n",
       "    <tr>\n",
       "      <th>...</th>\n",
       "      <td>...</td>\n",
       "      <td>...</td>\n",
       "      <td>...</td>\n",
       "    </tr>\n",
       "    <tr>\n",
       "      <th>190</th>\n",
       "      <td>1596067200</td>\n",
       "      <td>1634746</td>\n",
       "      <td>28</td>\n",
       "    </tr>\n",
       "    <tr>\n",
       "      <th>191</th>\n",
       "      <td>1596153600</td>\n",
       "      <td>1695988</td>\n",
       "      <td>28</td>\n",
       "    </tr>\n",
       "    <tr>\n",
       "      <th>192</th>\n",
       "      <td>1596240000</td>\n",
       "      <td>1750723</td>\n",
       "      <td>28</td>\n",
       "    </tr>\n",
       "    <tr>\n",
       "      <th>193</th>\n",
       "      <td>1596326400</td>\n",
       "      <td>1803695</td>\n",
       "      <td>28</td>\n",
       "    </tr>\n",
       "    <tr>\n",
       "      <th>194</th>\n",
       "      <td>1596412800</td>\n",
       "      <td>1855745</td>\n",
       "      <td>29</td>\n",
       "    </tr>\n",
       "  </tbody>\n",
       "</table>\n",
       "<p>195 rows × 3 columns</p>\n",
       "</div>"
      ],
      "text/plain": [
       "           date    total  Week Number\n",
       "0    1579651200        0            1\n",
       "1    1579737600        0            1\n",
       "2    1579824000        0            1\n",
       "3    1579910400        0            1\n",
       "4    1579996800        0            1\n",
       "..          ...      ...          ...\n",
       "190  1596067200  1634746           28\n",
       "191  1596153600  1695988           28\n",
       "192  1596240000  1750723           28\n",
       "193  1596326400  1803695           28\n",
       "194  1596412800  1855745           29\n",
       "\n",
       "[195 rows x 3 columns]"
      ]
     },
     "execution_count": 51,
     "metadata": {},
     "output_type": "execute_result"
    }
   ],
   "source": [
    "# Apply k-means clustering using the optimal number of clusters\n",
    "kmeans = KMeans(n_clusters=3, init='k-means++', max_iter=300, n_init=10, random_state=0)\n",
    "pred_y2 = kmeans.fit_predict(X2)\n",
    "I_cov19"
   ]
  },
  {
   "cell_type": "code",
   "execution_count": 52,
   "id": "bbe7df18",
   "metadata": {},
   "outputs": [],
   "source": [
    "# Convert the DataFrame to a numpy array\n",
    "I_cov19 = I_cov19.values"
   ]
  },
  {
   "cell_type": "code",
   "execution_count": 53,
   "id": "39a7bd20",
   "metadata": {},
   "outputs": [
    {
     "data": {
      "text/plain": [
       "KMeans(n_clusters=3)"
      ]
     },
     "execution_count": 53,
     "metadata": {},
     "output_type": "execute_result"
    }
   ],
   "source": [
    "# Choose the number of clusters (k)\n",
    "k = 3\n",
    "\n",
    "# Initialize the KMeans model\n",
    "kmeans = KMeans(n_clusters=k)\n",
    "\n",
    "# Fit the model to the data\n",
    "kmeans.fit(I_cov19)"
   ]
  },
  {
   "cell_type": "code",
   "execution_count": 54,
   "id": "0ccfd4ae",
   "metadata": {},
   "outputs": [
    {
     "data": {
      "image/png": "[encoded data removed]",
      "text/plain": [
       "<Figure size 720x432 with 1 Axes>"
      ]
     },
     "metadata": {},
     "output_type": "display_data"
    }
   ],
   "source": [
    "#Get the cluster labels for each data point\n",
    "labels = kmeans.labels_\n",
    "\n",
    "# Get the centroids of the clusters\n",
    "centroids = kmeans.cluster_centers_\n",
    "\n",
    "\n",
    "# Plot the data points and centroids\n",
    "plt.scatter(I_cov19[:, 0], I_cov19[:, 1], c=labels)\n",
    "plt.scatter(centroids[:, 0], centroids[:, 1], marker='x', s=200, linewidths=3, color='r')\n",
    "plt.xlabel('Date (Unix timestamp in seconds)')\n",
    "plt.ylabel('Confirmed Cases')\n",
    "plt.show()"
   ]
  },
  {
   "cell_type": "code",
   "execution_count": null,
   "id": "96a227fa",
   "metadata": {},
   "outputs": [],
   "source": []
  }
 ],
 "metadata": {
  "kernelspec": {
   "display_name": "Python 3 (ipykernel)",
   "language": "python",
   "name": "python3"
  },
  "language_info": {
   "codemirror_mode": {
    "name": "ipython",
    "version": 3
   },
   "file_extension": ".py",
   "mimetype": "text/x-python",
   "name": "python",
   "nbconvert_exporter": "python",
   "pygments_lexer": "ipython3",
   "version": "3.9.12"
  }
 },
 "nbformat": 4,
 "nbformat_minor": 5
}
